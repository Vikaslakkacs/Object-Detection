{
 "cells": [
  {
   "cell_type": "markdown",
   "metadata": {
    "colab_type": "text",
    "id": "MlEP5BBTULrJ"
   },
   "source": [
    "## Object Detection Via Sliding Images process\n",
    "### We will detect object using sliding images process and can able to draw bounding boxes of the image.\n",
    "#### Steps: 1. We will have a classic object detection model\n",
    "#### 2. Create pyramid search images with different sizes\n",
    "#### 3. Slide through every images just like convolution layer\n",
    "#### 4. Predict images from all the slided cum pyramid search images\n",
    "#### 5. Use Non-Max suppression process to eliminate duplicate bounding boxes."
   ]
  },
  {
   "cell_type": "markdown",
   "metadata": {
    "colab_type": "text",
    "id": "bIEbQ5qSWkvj"
   },
   "source": [
    "### Import Dependencies"
   ]
  },
  {
   "cell_type": "code",
   "execution_count": 1,
   "metadata": {
    "colab": {},
    "colab_type": "code",
    "id": "45-1RUesR29P"
   },
   "outputs": [],
   "source": [
    "import numpy as np\n",
    "import matplotlib.pyplot as plt ## For plotting\n",
    "import tensorflow as tf\n",
    "### object detection libraries\n",
    "from tensorflow.keras.applications import ResNet50\n",
    "from tensorflow.keras.applications.resnet import preprocess_input\n",
    "from tensorflow.keras.applications import imagenet_utils\n",
    "\n",
    "### Image handling library\n",
    "import cv2\n",
    "from PIL import Image\n",
    "## time libraries\n",
    "import time"
   ]
  },
  {
   "cell_type": "markdown",
   "metadata": {
    "colab_type": "text",
    "id": "EEF_TTKm9OUs"
   },
   "source": [
    "### Model Loading"
   ]
  },
  {
   "cell_type": "code",
   "execution_count": 2,
   "metadata": {
    "colab": {
     "base_uri": "https://localhost:8080/",
     "height": 72
    },
    "colab_type": "code",
    "id": "XOn0QaN_9N3V",
    "outputId": "7408029c-80bd-4cba-a94e-9aa1897c5de2"
   },
   "outputs": [
    {
     "name": "stdout",
     "output_type": "stream",
     "text": [
      "Downloading data from https://github.com/keras-team/keras-applications/releases/download/resnet/resnet50_weights_tf_dim_ordering_tf_kernels.h5\n",
      "102973440/102967424 [==============================] - 187s 2us/step\n"
     ]
    }
   ],
   "source": [
    "model= ResNet50(include_top= True, weights='imagenet')"
   ]
  },
  {
   "cell_type": "markdown",
   "metadata": {
    "colab_type": "text",
    "id": "R4y33Xsm8r14"
   },
   "source": [
    "##### Function to Display image"
   ]
  },
  {
   "cell_type": "code",
   "execution_count": 3,
   "metadata": {
    "colab": {},
    "colab_type": "code",
    "id": "SswO7qRv8rJB"
   },
   "outputs": [],
   "source": [
    "def display_image(image):\n",
    "  fig= plt.figure(figsize=(8,8))\n",
    "  plt.grid(False)\n",
    "  plt.imshow(image)\n",
    "  plt.show()"
   ]
  },
  {
   "cell_type": "markdown",
   "metadata": {
    "colab_type": "text",
    "id": "tiWCsznE9hW5"
   },
   "source": [
    "#### Loading image"
   ]
  },
  {
   "cell_type": "code",
   "execution_count": 4,
   "metadata": {
    "colab": {},
    "colab_type": "code",
    "id": "pFJPuNLk8rIK"
   },
   "outputs": [
    {
     "ename": "FileNotFoundError",
     "evalue": "[Errno 2] No such file or directory: '/images/hummingbird.jpg'",
     "output_type": "error",
     "traceback": [
      "\u001b[1;31m---------------------------------------------------------------------------\u001b[0m",
      "\u001b[1;31mFileNotFoundError\u001b[0m                         Traceback (most recent call last)",
      "\u001b[1;32m<ipython-input-4-1da4cc31de52>\u001b[0m in \u001b[0;36m<module>\u001b[1;34m\u001b[0m\n\u001b[0;32m      1\u001b[0m \u001b[0mimage_path\u001b[0m\u001b[1;33m=\u001b[0m\u001b[1;34m'/images/hummingbird.jpg'\u001b[0m\u001b[1;33m\u001b[0m\u001b[1;33m\u001b[0m\u001b[0m\n\u001b[1;32m----> 2\u001b[1;33m \u001b[0mpil_image\u001b[0m\u001b[1;33m=\u001b[0m \u001b[0mImage\u001b[0m\u001b[1;33m.\u001b[0m\u001b[0mopen\u001b[0m\u001b[1;33m(\u001b[0m\u001b[0mimage_path\u001b[0m\u001b[1;33m)\u001b[0m\u001b[1;33m\u001b[0m\u001b[1;33m\u001b[0m\u001b[0m\n\u001b[0m\u001b[0;32m      3\u001b[0m \u001b[1;33m\u001b[0m\u001b[0m\n\u001b[0;32m      4\u001b[0m \u001b[1;31m##Convert image to array\u001b[0m\u001b[1;33m\u001b[0m\u001b[1;33m\u001b[0m\u001b[1;33m\u001b[0m\u001b[0m\n\u001b[0;32m      5\u001b[0m \u001b[0mhumming\u001b[0m\u001b[1;33m=\u001b[0m \u001b[0mnp\u001b[0m\u001b[1;33m.\u001b[0m\u001b[0marray\u001b[0m\u001b[1;33m(\u001b[0m\u001b[0mpil_image\u001b[0m\u001b[1;33m)\u001b[0m\u001b[1;33m\u001b[0m\u001b[1;33m\u001b[0m\u001b[0m\n",
      "\u001b[1;32m~\\Anaconda3\\lib\\site-packages\\PIL\\Image.py\u001b[0m in \u001b[0;36mopen\u001b[1;34m(fp, mode)\u001b[0m\n\u001b[0;32m   2876\u001b[0m \u001b[1;33m\u001b[0m\u001b[0m\n\u001b[0;32m   2877\u001b[0m     \u001b[1;32mif\u001b[0m \u001b[0mfilename\u001b[0m\u001b[1;33m:\u001b[0m\u001b[1;33m\u001b[0m\u001b[1;33m\u001b[0m\u001b[0m\n\u001b[1;32m-> 2878\u001b[1;33m         \u001b[0mfp\u001b[0m \u001b[1;33m=\u001b[0m \u001b[0mbuiltins\u001b[0m\u001b[1;33m.\u001b[0m\u001b[0mopen\u001b[0m\u001b[1;33m(\u001b[0m\u001b[0mfilename\u001b[0m\u001b[1;33m,\u001b[0m \u001b[1;34m\"rb\"\u001b[0m\u001b[1;33m)\u001b[0m\u001b[1;33m\u001b[0m\u001b[1;33m\u001b[0m\u001b[0m\n\u001b[0m\u001b[0;32m   2879\u001b[0m         \u001b[0mexclusive_fp\u001b[0m \u001b[1;33m=\u001b[0m \u001b[1;32mTrue\u001b[0m\u001b[1;33m\u001b[0m\u001b[1;33m\u001b[0m\u001b[0m\n\u001b[0;32m   2880\u001b[0m \u001b[1;33m\u001b[0m\u001b[0m\n",
      "\u001b[1;31mFileNotFoundError\u001b[0m: [Errno 2] No such file or directory: '/images/hummingbird.jpg'"
     ]
    }
   ],
   "source": [
    "image_path='/images/hummingbird.jpg'\n",
    "pil_image= Image.open(image_path)\n",
    "\n",
    "##Convert image to array\n",
    "humming= np.array(pil_image)"
   ]
  },
  {
   "cell_type": "code",
   "execution_count": null,
   "metadata": {
    "colab": {
     "base_uri": "https://localhost:8080/",
     "height": 303
    },
    "colab_type": "code",
    "id": "KkN538y_8nM4",
    "outputId": "6898633a-b3bc-4183-e052-748983f1a41e"
   },
   "outputs": [],
   "source": [
    "display_image(humming)"
   ]
  },
  {
   "cell_type": "markdown",
   "metadata": {
    "colab_type": "text",
    "id": "6XmJgT1c-AVE"
   },
   "source": [
    "### Load input parameters\n",
    "#### We will assign default variables like \n",
    "##### inpu_size: This is defined to pass image to model with respective input params\n",
    "##### roi_size: size of the image should be when sliding an image, This can be defined as per requirement.\n",
    "##### strides to perform: to how many pixels image has to slide for each step. This is like stride in CNN\n",
    "##### pyramid scale value  : Reducing the size of the image in each step untill it reaches the desired roi_size\n",
    "##### width_scale: The initial size of the image"
   ]
  },
  {
   "cell_type": "code",
   "execution_count": null,
   "metadata": {
    "colab": {},
    "colab_type": "code",
    "id": "iwXCD6Yj8nLk"
   },
   "outputs": [],
   "source": [
    "width_scale= 600\n",
    "roi_size=(150,200)\n",
    "input_size=(224, 224)\n",
    "strides=16\n",
    "pyr_scale=1.5"
   ]
  },
  {
   "cell_type": "markdown",
   "metadata": {
    "colab_type": "text",
    "id": "0Hqtk_mWKXIg"
   },
   "source": [
    "### Pyramid Images\n",
    "#### We will reduce the image size by the scale mentioned\n",
    "#### Process is continued untill it raches size of Roi"
   ]
  },
  {
   "cell_type": "code",
   "execution_count": null,
   "metadata": {
    "colab": {},
    "colab_type": "code",
    "id": "JKLA8-NcAKBf"
   },
   "outputs": [],
   "source": [
    "## Function for Pyramid image search\n",
    "def pyramid_image(pyr_image, pyr_scale, roi_size):\n",
    "  roi_height_limitexceed= False\n",
    "  roi_width_limitexceed= False\n",
    "\n",
    "  yield pyr_image\n",
    "\n",
    "  pyr_h, pyr_w= pyr_image.shape[:2]\n",
    "\n",
    "  while True:\n",
    "    pyr_h, pyr_w= pyr_image.shape[:2]\n",
    "    scale_h= int(pyr_h/ pyr_scale)\n",
    "    scale_w= int(pyr_w/pyr_scale)\n",
    "\n",
    "    if scale_h <= roi_size[0]:\n",
    "      roi_height_limitexceed= True\n",
    "    \n",
    "    else:\n",
    "      pyr_h= scale_h\n",
    "    \n",
    "    if scale_w <= roi_size[1]:\n",
    "      roi_width_limitexceed= True\n",
    "    \n",
    "    else:\n",
    "      pyr_w= scale_w\n",
    "    \n",
    "    ## If height and width exceeds roi size then break the loop\n",
    "    if roi_height_limitexceed==True and roi_width_limitexceed==True:\n",
    "      break\n",
    "    \n",
    "    ### Resize the current image to scaled factor\n",
    "    pyr_image= cv2.resize(pyr_image, (pyr_w, pyr_h), interpolation=cv2.INTER_AREA)\n",
    "    yield pyr_image"
   ]
  },
  {
   "cell_type": "markdown",
   "metadata": {
    "colab_type": "text",
    "id": "jLYtzn6sNiJO"
   },
   "source": [
    "#### Lets test it"
   ]
  },
  {
   "cell_type": "code",
   "execution_count": null,
   "metadata": {
    "colab": {
     "base_uri": "https://localhost:8080/",
     "height": 1000
    },
    "colab_type": "code",
    "id": "v4pLxzYSNhd1",
    "outputId": "070207a4-abb5-4080-f89c-4be1e8d00b1f"
   },
   "outputs": [],
   "source": [
    "for pyr_image in pyramid_image(humming, pyr_scale, roi_size):\n",
    "  display_image(pyr_image)"
   ]
  },
  {
   "cell_type": "markdown",
   "metadata": {
    "colab_type": "text",
    "id": "a5X9NQVDNvN9"
   },
   "source": [
    "### Sliding window process\n",
    "#### a shape is considered initially (roisize) and slided over the image horizontally and vertically and stores the images.\n",
    "#### This process is repeated with all the pyramid images generated above."
   ]
  },
  {
   "cell_type": "code",
   "execution_count": null,
   "metadata": {
    "colab": {},
    "colab_type": "code",
    "id": "ZofWDncvNg8l"
   },
   "outputs": [],
   "source": [
    "## Function of sliding window\n",
    "def sliding_window(slide_image, strides, roi_size):\n",
    "\n",
    "  slide_h, slide_w= slide_image.shape[:2]\n",
    "\n",
    "  ### slide over y-axis\n",
    "  for y in range(0,slide_h- roi_size[0], strides ):\n",
    "\n",
    "    ##Slide over x-Axis\n",
    "    for x in range(0, slide_w-roi_size[1], strides):\n",
    "      yield (x, y, slide_image[y:y+roi_size[0], x:x+roi_size[1]])"
   ]
  },
  {
   "cell_type": "markdown",
   "metadata": {
    "colab_type": "text",
    "id": "UY7r9M6ERATG"
   },
   "source": [
    "### Apply sliding process for each pyramid image"
   ]
  },
  {
   "cell_type": "code",
   "execution_count": null,
   "metadata": {
    "colab": {
     "base_uri": "https://localhost:8080/",
     "height": 87
    },
    "colab_type": "code",
    "id": "TXqcvh91QnTz",
    "outputId": "474b422c-98ff-403c-b5a4-c74556560991"
   },
   "outputs": [],
   "source": [
    "rois=[]# To store Roi images\n",
    "locs=[]## To store co-ordinates of Roi images\n",
    "for pyr_image in pyramid_image(humming, pyr_scale, roi_size):\n",
    "  ### This is the scale where we multiply to each co=ordinate to get the actualy co-ordinates of the image\n",
    "  #### When ever the image size is reduced the co-ordinates of Roi is also chagned\n",
    "  #### When we divide the actual length with the changed length we will get the rate of change of length\n",
    "  #### If we multiply that rate with all the co-ordinates we will get the actual image co-ordinates\n",
    "  change_scale= width_scale / pyr_image.shape[1]\n",
    "  print(change_scale)\n",
    "  for (x, y, slide_image) in sliding_window(pyr_image, strides, roi_size):\n",
    "\n",
    "    ### building the co-ordinates\n",
    "    x= int(x * change_scale)\n",
    "    y= int(y * change_scale)\n",
    "    w= int(roi_size[1] * change_scale)\n",
    "    h= int(roi_size[0] * change_scale)\n",
    "\n",
    "    ### Load co-ordinates to locs list\n",
    "    box= (x, y, x+w, y+h)\n",
    "    locs.append(box)\n",
    "\n",
    "    ### Create Roi\n",
    "    ### Resize image to input_size\n",
    "    roi= cv2.resize(slide_image, input_size, interpolation= cv2.INTER_AREA)\n",
    "    roi= np.asarray(roi, dtype= np.float32)\n",
    "    rois.append(roi)\n"
   ]
  },
  {
   "cell_type": "markdown",
   "metadata": {
    "colab_type": "text",
    "id": "j_kkSI0hTX-b"
   },
   "source": [
    "### Pre-Process the images and predict the model"
   ]
  },
  {
   "cell_type": "code",
   "execution_count": null,
   "metadata": {
    "colab": {},
    "colab_type": "code",
    "id": "kpCkrJpJTHD-"
   },
   "outputs": [],
   "source": [
    "###Conver list to aray\n",
    "rois= np.array(rois)\n",
    "## Preproces the data\n",
    "preprocess_rois= preprocess_input(rois)\n",
    "## Predict the data\n",
    "prediction= model.predict(preprocess_rois)\n",
    "## decode the prediction\n",
    "decode_pred= imagenet_utils.decode_predictions(prediction)"
   ]
  },
  {
   "cell_type": "code",
   "execution_count": null,
   "metadata": {
    "colab": {
     "base_uri": "https://localhost:8080/",
     "height": 122
    },
    "colab_type": "code",
    "id": "7-WN4RhKTskF",
    "outputId": "52f51d39-ef5a-462b-b1af-9c8e1976786b"
   },
   "outputs": [],
   "source": [
    "#### We will create highest confidence dict with labels and bounding box which has highest confidence\n",
    "humming_clone= humming.copy()\n",
    "highest_confi={}\n",
    "for i, pred_image in enumerate(decode_pred):\n",
    "\n",
    "  ### There would be list of tuples with all the probabilities which equates to 1. like softmax\n",
    "  ### The list would be in descending order. We wil consider only first item which in general has highest prob\n",
    "  (predict_id, label, confidence)= pred_image[0]\n",
    "\n",
    "  if confidence >0.999999:\n",
    "    box= locs[i]\n",
    "\n",
    "    image_co_ord= highest_confi.get(label, [])\n",
    "    image_co_ord.append((box, confidence))\n",
    "    highest_confi[label]= image_co_ord\n",
    "\n",
    "    print(label, confidence)\n",
    "    ## Draw the image in the sample\n",
    "    (x1, y1, x2, y2)= box\n",
    "    cv2.rectangle(humming_clone, (x1,y1), (x2, y2), color=(0,255,0), thickness=5)\n",
    "    "
   ]
  },
  {
   "cell_type": "code",
   "execution_count": null,
   "metadata": {
    "colab": {
     "base_uri": "https://localhost:8080/",
     "height": 303
    },
    "colab_type": "code",
    "id": "QrFxpaVxW0Z_",
    "outputId": "03efae25-225e-493b-f8ab-f98b9590d8f5"
   },
   "outputs": [],
   "source": [
    "display_image(humming_clone)"
   ]
  },
  {
   "cell_type": "markdown",
   "metadata": {
    "colab_type": "text",
    "id": "0Kpmj_H1X7un"
   },
   "source": [
    "### Non-Max Suppression\n",
    "#### Generally this process eliminates the duplicate bbx\n",
    "#### Procedure: For each label with set of bbx we will calculate the area of the all boxes\n",
    "#### Them we will take the highest confidence box and make the other boxes do not cross the boundaries of highest confidence box.\n",
    "#### i.e, co-ordinates which are outer the highest confidence box will be re arranged with the co-ordinates of highest box if they crosses the boundary. otherwise it stays there. "
   ]
  },
  {
   "cell_type": "code",
   "execution_count": null,
   "metadata": {
    "colab": {
     "base_uri": "https://localhost:8080/",
     "height": 34
    },
    "colab_type": "code",
    "id": "g-pctAuyX2mg",
    "outputId": "32c2f92f-f424-4cc9-f94d-2b73d67a6af2"
   },
   "outputs": [],
   "source": [
    "humming_clone= humming.copy()\n",
    "### Loop for each label\n",
    "for label in highest_confi.keys():\n",
    "  ### picks all the boxes for each label\n",
    "  pick=[]\n",
    "\n",
    "  ### Let us calculate the area of the bbx\n",
    "  boxes=np.array([p[0] for p in highest_confi[label]])\n",
    "  confidence= np.array([p[1] for p in highest_confi[label]])\n",
    "  \n",
    "  ### make sure the co-ordinates are floats\n",
    "  boxes= boxes.astype(np.float32)\n",
    "  #print(boxes.dtype)\n",
    "\n",
    "  x1= boxes[:, 0]\n",
    "  y1= boxes[:, 1]\n",
    "  x2= boxes[:, 2]\n",
    "  y2= boxes[:, 3]\n",
    "\n",
    "  area= (x2 - x1 + 1) * (y2 - y1 + 1)\n",
    "\n",
    "  ### index is created with confidence by ascending order\n",
    "  ### Sorting the indx\n",
    "  idx= np.argsort(confidence)\n",
    "  #print(idx)\n",
    "\n",
    "  ## Loop till there are no elements in the index\n",
    "  while len(idx)>0:\n",
    "    #print(len(idx))\n",
    "\n",
    "    ### Take the last element which means the highest confidence form theindex\n",
    "    last= len(idx)-1\n",
    "    i= idx[-1]\n",
    "    \n",
    "\n",
    "    ### pick the index value\n",
    "    pick.append(i)\n",
    "\n",
    "    ### Take the new co-ordinates and calculate the area\n",
    "    #### WE will make sure that remaining co-ordinates won't cross the limits of highest confidence bbx\n",
    "    xx1= np.maximum(x1[i], x1[idx[:last]])\n",
    "    yy1= np.maximum(y1[i], y1[idx[:last]])\n",
    "    xx2= np.minimum(x2[i], x2[idx[:last]])\n",
    "    yy2= np.minimum(y2[i], y2[idx[:last]])\n",
    "    \n",
    "\n",
    "    w= np.maximum(0, xx2-xx1+1)\n",
    "    h= np.maximum(0, yy2-yy1+1)\n",
    "\n",
    "    new_area= w * h\n",
    "    print( new_area, area[:last])\n",
    "\n",
    "    ### By divinding new are with old area we will get the percentage of reduction of the old area\n",
    "    ### If the percentage is more then these boxes are belongs same object in the image(there might be\n",
    "    ###  different objects with the same label)\n",
    "    ### We call this as overlap. If overlap is > 0.3 then we will remove those index values and keep the remaining\n",
    "    ### for next detection.\n",
    "\n",
    "    overlap= new_area/area[:last]\n",
    "\n",
    "    ### Remove values from overlap >0.3\n",
    "    overlap_cross= np.where (overlap>0.3)\n",
    "    #print(overlap)\n",
    "\n",
    "    ##Concatenate last element as we already considered it.\n",
    "    concatenate= np.concatenate(([last], overlap_cross[0]))\n",
    "\n",
    "    ### delete all the above from idx\n",
    "    idx= np.delete(idx, concatenate)\n",
    "  #print(idx, last)\n",
    "  \n",
    "  ### Draw all the boxes of particular label from pick list\n",
    "  for pick_box in pick:\n",
    "    #print(pick_box)\n",
    "    ## Co-ordinates\n",
    "    (startx, starty, endx, endy)= boxes[pick_box]\n",
    "\n",
    "    cv2.rectangle(humming_clone, (startx, starty), (endx, endy), color=(0,255,0), thickness=5)\n",
    "\n",
    "  \n",
    "\n",
    "\n"
   ]
  },
  {
   "cell_type": "code",
   "execution_count": null,
   "metadata": {
    "colab": {
     "base_uri": "https://localhost:8080/",
     "height": 303
    },
    "colab_type": "code",
    "id": "JGihtPqyzY-u",
    "outputId": "38592a59-dd64-479d-8655-355b119bcbc9"
   },
   "outputs": [],
   "source": [
    "display_image(humming_clone)"
   ]
  },
  {
   "cell_type": "code",
   "execution_count": null,
   "metadata": {
    "colab": {},
    "colab_type": "code",
    "id": "vJMjuO_Azns8"
   },
   "outputs": [],
   "source": []
  }
 ],
 "metadata": {
  "colab": {
   "collapsed_sections": [],
   "name": "Object Detection- Sliding images v~1.5.ipynb",
   "provenance": []
  },
  "kernelspec": {
   "display_name": "Python 3",
   "language": "python",
   "name": "python3"
  },
  "language_info": {
   "codemirror_mode": {
    "name": "ipython",
    "version": 3
   },
   "file_extension": ".py",
   "mimetype": "text/x-python",
   "name": "python",
   "nbconvert_exporter": "python",
   "pygments_lexer": "ipython3",
   "version": "3.7.3"
  }
 },
 "nbformat": 4,
 "nbformat_minor": 1
}
